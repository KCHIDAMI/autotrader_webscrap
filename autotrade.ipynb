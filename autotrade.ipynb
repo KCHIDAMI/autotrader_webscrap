{
 "cells": [
  {
   "cell_type": "markdown",
   "metadata": {},
   "source": [
    "#### import libraries"
   ]
  },
  {
   "cell_type": "code",
   "execution_count": 1,
   "metadata": {},
   "outputs": [],
   "source": [
    "# Load the packages\n",
    "from requests_html import AsyncHTMLSession\n",
    "import requests\n",
    "from bs4 import BeautifulSoup\n",
    "import pandas as pd\n",
    "# importing pyppdf library to download chromium (just for the first time)\n",
    "import pyppdf.patch_pyppeteer"
   ]
  },
  {
   "cell_type": "markdown",
   "metadata": {},
   "source": [
    "#### build the url"
   ]
  },
  {
   "cell_type": "code",
   "execution_count": 3,
   "metadata": {},
   "outputs": [],
   "source": [
    "# defining a function to build all the urls function of the maker, model,startYear, endYear, province, city and the number of pages we want to scrap\n",
    "def urls_maker(number_of_pages):\n",
    "    #defining the url depending of car maker, model, start year, end year, province and city\n",
    "    make=input(\"enter maker: \")\n",
    "    model = input(\"enter model: \")\n",
    "    startYear = input(\"enter start year: \")\n",
    "    endYear = input(\"enter end year: \")\n",
    "    province = input(\"enter province: \")\n",
    "    city = input(\"enter city: \")\n",
    "    urls = []\n",
    "    \n",
    "    for i in range(0,number_of_pages):\n",
    "        # when startYear and endYear are equal the structure of the url is different so we have to take it into consideration\n",
    "        if startYear != endYear:\n",
    "            header = \"http://www.autotrader.ca/cars/\"+make+\"/\"+model+\"/\"+province+\"/\"+city\n",
    "            trailer = \"/?rcp=15\"+\"&rcs=\"+str(15*i)+\"&srt=4&yRng=\"+startYear+\"%2C\"+endYear\n",
    "            urls.append(header+trailer)\n",
    "        else:\n",
    "            header = \"http://www.autotrader.ca/cars/\"+make+\"/\"+model+\"/\"+startYear+\"/\"+province+\"/\"+city\n",
    "            trailer = \"/?rcp=15&rcs=\"+str(15*i)+\"&srt=4\"\n",
    "            urls.append(header+trailer)\n",
    "        \n",
    "    \n",
    "    return make,model,startYear,endYear,province,city,urls"
   ]
  },
  {
   "cell_type": "code",
   "execution_count": 4,
   "metadata": {},
   "outputs": [
    {
     "name": "stdin",
     "output_type": "stream",
     "text": [
      "enter maker:  honda\n",
      "enter model:  cr-v\n",
      "enter start year:  2014\n",
      "enter end year:  2020\n",
      "enter province:  on\n",
      "enter city:  toronto\n"
     ]
    }
   ],
   "source": [
    "# executing the url_maker function and storing outputs into a variable called info\n",
    "info = urls_maker(5)"
   ]
  },
  {
   "cell_type": "markdown",
   "metadata": {},
   "source": [
    "- now we have built the url, we can start scraping the information about vehicles "
   ]
  },
  {
   "cell_type": "markdown",
   "metadata": {},
   "source": [
    "#### webscraping"
   ]
  },
  {
   "cell_type": "code",
   "execution_count": 5,
   "metadata": {
    "scrolled": true
   },
   "outputs": [
    {
     "name": "stdout",
     "output_type": "stream",
     "text": [
      "0 200 , 1 200 , 2 200 , 3 200 , 4 200 , length links:  135\n",
      "length mile:  135\n",
      "length detail:  135\n",
      "length ad_title:  135\n",
      "length car_type:  135\n",
      "length cur:  135\n",
      "length car_price:  135\n",
      "length market_delta:  135\n"
     ]
    }
   ],
   "source": [
    "i=0\n",
    "# creating empty lists for each feature that we need\n",
    "link = []\n",
    "mile = []\n",
    "detail = []\n",
    "ad_title = []\n",
    "car_price = []\n",
    "market_delta = []\n",
    "car_type = []\n",
    "cur = []\n",
    "for url in info[-1]:\n",
    "    session = AsyncHTMLSession()\n",
    "    r = await session.get(url)\n",
    "    print(i,r.status_code, end=\" , \")\n",
    "    if r.status_code==200:\n",
    "        # getting the HTML from the webpage\n",
    "        html = r.content\n",
    "        # converting the HTML to a Beautiful Soup object\n",
    "        soup = BeautifulSoup(html, 'lxml')\n",
    "        \n",
    "        \n",
    "        ####### extracting elements\n",
    "        \n",
    "        #### listing details are in div tags and listing-details class\n",
    "        listing_details = soup.find_all(\"div\",{\"class\":\"listing-details\"})\n",
    "        \n",
    "        # absolute link (we have the relative link in a tags and click class then we have to add before the link's root \"https://autotrader.ca\")\n",
    "        links = [\"https://autotrader.ca\"+link.find(\"a\",{\"class\":\"click\"})[\"href\"]\n",
    "                 if link.find(\"a\",{\"class\":\"click\"}) is not None else link.find(\"a\",{\"class\":\"click\"}) for link in listing_details]\n",
    "        link.extend(links)\n",
    "        # mileage\n",
    "        mileage = [listing_detail.find(\"div\",{\"class\":\"kms\"}).text if listing_detail.find(\"div\",{\"class\":\"kms\"})\n",
    "               is not None else listing_detail.find(\"div\",{\"class\":\"kms\"})for listing_detail in listing_details]\n",
    "        # cleaning the extracted text to keep only the mileage in an interger format\n",
    "        mileage_cleaned = [mile.split(\" \")[1].replace(\",\",\"\") if mile is not None else mile for mile in mileage]\n",
    "        mile.extend(mileage_cleaned)\n",
    "        # detail-used (text summarizing car's features)\n",
    "        detail_used = [listing_detail.find(\"p\",{\"class\":\"details used\"}).text if listing_detail.find(\"p\",{\"class\":\"details used\"})\n",
    "               is not None else listing_detail.find(\"p\",{\"class\":\"details used\"}) for listing_detail in listing_details]\n",
    "        detail.extend(detail_used)\n",
    "        # ad title\n",
    "        title = [listing_detail.find(\"span\",{\"itemprop\":\"itemOffered\"}).text if listing_detail.find(\"span\",{\"itemprop\":\"itemOffered\"})\n",
    "               is not None else listing_detail.find(\"span\",{\"itemprop\":\"itemOffered\"}) for listing_detail in listing_details]\n",
    "        ad_title.extend(title)\n",
    "        \n",
    "        ### price info are in div tags and price-wrapper class\n",
    "        price_wrapper = soup.find_all(\"div\",{\"class\":\"price-wrapper\"})\n",
    "        \n",
    "        # price\n",
    "        price = [price.find(\"span\",{\"class\":\"price-amount\"}).text if price.find(\"span\",{\"class\":\"price-amount\"})\n",
    "               is not None else price.find(\"span\",{\"class\":\"price-amount\"})for price in price_wrapper]\n",
    "        # removing the $ sign using strip\n",
    "        price_cleaned =[price.strip(\"$\") for price in price]\n",
    "        # removing the comma in the text before transforming it to an integer\n",
    "        price_cleaned = [price.replace(\",\",\"\") for price in price_cleaned]\n",
    "        # transforming price to an integer instead of a string\n",
    "        price_cleaned = [int(price) for price in price_cleaned]\n",
    "        car_price.extend(price_cleaned)\n",
    "        # delta price (vehicle price compared to the market)\n",
    "        delta_price = [delta.find(\"p\").text if delta.find(\"p\") is not None else delta.find(\"p\") for delta in price_wrapper]\n",
    "        # finally we have to process the text in order to transform it to a positive integer when it's above the market and negative when it'S below\n",
    "        delta_price_cleaned = [int(delta.strip(\"$\").replace(\",\",\"\").split(\" \")[0]) if delta is not None and \"Above\" in delta else -int(delta.strip(\"$\").replace(\",\",\"\").split(\" \")[0])\n",
    "        if delta is not None and \"Below\" in delta else delta for delta in delta_price]\n",
    "        market_delta.extend(delta_price_cleaned)\n",
    "        # vehicle type (if it's a used car)\n",
    "        vehicle_type = [delta.find(\"meta\",{\"itemprop\":\"itemCondition\"})[\"content\"] if delta.find(\"meta\",{\"itemprop\":\"itemCondition\"}) is not None\n",
    "                        else delta.find(\"meta\",{\"itemprop\":\"itemCondition\"}) for delta in price_wrapper]\n",
    "        car_type.extend(vehicle_type)\n",
    "        # currency\n",
    "        currency = [delta.find(\"meta\",{\"itemprop\":\"priceCurrency\"})[\"content\"] if delta.find(\"meta\",{\"itemprop\":\"priceCurrency\"}) is not None\n",
    "                    else delta.find(\"meta\",{\"itemprop\":\"priceCurrency\"}) for delta in price_wrapper]\n",
    "        cur.extend(currency)\n",
    "        i = i + 1\n",
    "    else:\n",
    "        # checking the page number where the server response is not 200  \n",
    "        print(i)\n",
    "        break\n",
    "\n",
    "# checking that the lists have the same length\n",
    "print(\"length links: \",len(link))\n",
    "print(\"length mile: \",len(mile))\n",
    "print(\"length detail: \",len(detail))\n",
    "print(\"length ad_title: \",len(ad_title))\n",
    "print(\"length car_type: \",len(car_type))\n",
    "print(\"length cur: \",len(cur))\n",
    "print(\"length car_price: \",len(car_price))\n",
    "print(\"length market_delta: \",len(market_delta))"
   ]
  },
  {
   "cell_type": "code",
   "execution_count": 6,
   "metadata": {
    "scrolled": true
   },
   "outputs": [],
   "source": [
    "# creating a dataframe containing all the information extracted previously        \n",
    "database = pd.DataFrame({\"link\":link,\"mileage\":mile,\"description\":detail,\"ad_title\":ad_title,\"type\":car_type,\"currency\":cur,\n",
    "                         \"price\":car_price,\"market_delta\":market_delta})\n",
    "database['make'] = info[0]\n",
    "database['model'] = info[1]\n",
    "database['province'] = info[4]\n",
    "database['city'] = info[5]"
   ]
  },
  {
   "cell_type": "code",
   "execution_count": 7,
   "metadata": {},
   "outputs": [],
   "source": [
    "# extracting the year of registration of the car from the ad_title using regex\n",
    "database[\"year\"]=database[\"ad_title\"].str.extract(r'(20[0-9]{2})')"
   ]
  },
  {
   "cell_type": "code",
   "execution_count": 8,
   "metadata": {},
   "outputs": [],
   "source": [
    "# reordering the columns\n",
    "database = database[[\"make\",\"model\",\"year\",\"province\",\"city\",\"ad_title\",\"description\",\"link\",\"mileage\",\"type\",\"price\",\"currency\",\"market_delta\"]]"
   ]
  },
  {
   "cell_type": "code",
   "execution_count": 9,
   "metadata": {},
   "outputs": [],
   "source": [
    "import matplotlib.pyplot as plt\n",
    "import seaborn as sns\n",
    "%matplotlib inline"
   ]
  },
  {
   "cell_type": "code",
   "execution_count": 10,
   "metadata": {},
   "outputs": [
    {
     "data": {
      "image/png": "[encoded data removed]",
      "text/plain": [
       "<Figure size 432x288 with 1 Axes>"
      ]
     },
     "metadata": {
      "needs_background": "light"
     },
     "output_type": "display_data"
    }
   ],
   "source": [
    "# let's plot a boxplot to see if there are outliers\n",
    "plt.figure()\n",
    "sns.boxplot(database[\"year\"],database[\"price\"])\n",
    "plt.xticks\n",
    "plt.show()"
   ]
  },
  {
   "cell_type": "code",
   "execution_count": 11,
   "metadata": {},
   "outputs": [
    {
     "data": {
      "text/plain": [
       "make             0\n",
       "model            0\n",
       "year             5\n",
       "province         0\n",
       "city             0\n",
       "ad_title         5\n",
       "description      5\n",
       "link             0\n",
       "mileage          0\n",
       "type             0\n",
       "price            0\n",
       "currency         0\n",
       "market_delta    27\n",
       "dtype: int64"
      ]
     },
     "execution_count": 11,
     "metadata": {},
     "output_type": "execute_result"
    }
   ],
   "source": [
    "database.isna().sum()"
   ]
  },
  {
   "cell_type": "code",
   "execution_count": 12,
   "metadata": {},
   "outputs": [
    {
     "data": {
      "text/plain": [
       "(135, 13)"
      ]
     },
     "execution_count": 12,
     "metadata": {},
     "output_type": "execute_result"
    }
   ],
   "source": [
    "database.shape"
   ]
  },
  {
   "cell_type": "code",
   "execution_count": 13,
   "metadata": {},
   "outputs": [],
   "source": [
    "import json\n",
    "import re"
   ]
  },
  {
   "cell_type": "code",
   "execution_count": null,
   "metadata": {},
   "outputs": [],
   "source": [
    "content = []\n",
    "session2 = AsyncHTMLSession()\n",
    "for url in database[\"link\"]:\n",
    "    try:\n",
    "        r2 = await session2.get(url)\n",
    "        r2.status_code\n",
    "        html2 = r2.content\n",
    "        soup2 =BeautifulSoup(html2,\"lxml\")\n",
    "        dic = soup2.find_all(\"script\",{\"type\":\"text/javascript\"})\n",
    "        s = str(dic[4])\n",
    "        text = re.search(r'\"highlights\":(.*?),\"gallery\"', s).group(1)\n",
    "        content.append(text)\n",
    "    except:\n",
    "        content.append(None)\n",
    "        print(url)"
   ]
  },
  {
   "cell_type": "code",
   "execution_count": null,
   "metadata": {},
   "outputs": [],
   "source": [
    "content[11]"
   ]
  },
  {
   "cell_type": "code",
   "execution_count": null,
   "metadata": {},
   "outputs": [],
   "source": [
    "len(database)"
   ]
  },
  {
   "cell_type": "code",
   "execution_count": null,
   "metadata": {},
   "outputs": [],
   "source": [
    "mileage = []\n",
    "transmission = []\n",
    "drivetrain = []\n",
    "items = []\n",
    "for i in range(len(content)):\n",
    "    try:\n",
    "        if content[i] is not None:\n",
    "            to_json=json.loads(content[i])\n",
    "            if \"mileage\" in to_json.keys():\n",
    "                mileage.append(to_json[\"mileage\"])\n",
    "            else:\n",
    "                mileage.append(None)\n",
    "            if \"transmission\" in to_json.keys():\n",
    "                transmission.append(to_json[\"transmission\"])\n",
    "            else:\n",
    "                transmission.append(None)\n",
    "            if \"drivetrain\" in to_json.keys():\n",
    "                drivetrain.append(to_json[\"drivetrain\"])\n",
    "            else:\n",
    "                drivetrain.append(None)\n",
    "            if \"items\" in to_json.keys():\n",
    "                items.append(to_json[\"items\"])\n",
    "            else:\n",
    "                items.append(None)\n",
    "        else:\n",
    "            mileage.append(None)\n",
    "            transmission.append(None)\n",
    "            drivetrain.append(None)\n",
    "            items.append(None)\n",
    "    except:\n",
    "        print(i)\n",
    "        break\n",
    "        "
   ]
  },
  {
   "cell_type": "code",
   "execution_count": 39,
   "metadata": {},
   "outputs": [],
   "source": [
    "session3 = AsyncHTMLSession()\n",
    "r3 = await session3.get(database[\"link\"][0])\n",
    "r3.status_code\n",
    "html3 = r3.content\n",
    "soup3 =BeautifulSoup(html3,\"lxml\")\n",
    "dic3 = soup3.find_all(\"script\",{\"type\":\"text/javascript\"})\n",
    "s3 = str(dic3[4])"
   ]
  },
  {
   "cell_type": "code",
   "execution_count": 15,
   "metadata": {},
   "outputs": [],
   "source": [
    "text = re.search(r'\"highlights\":(.*?),\"gallery\"', s3).group(1)"
   ]
  },
  {
   "cell_type": "code",
   "execution_count": 16,
   "metadata": {},
   "outputs": [
    {
     "data": {
      "text/plain": [
       "'{\"mileage\":\"32,082 km\",\"transmission\":\"Automatic\",\"drivetrain\":\"AWD\",\"items\":[\"Leather Interior\",\"Bluetooth\",\"Rear View Camera\",\"Average km\"]}'"
      ]
     },
     "execution_count": 16,
     "metadata": {},
     "output_type": "execute_result"
    }
   ],
   "source": [
    "text"
   ]
  },
  {
   "cell_type": "code",
   "execution_count": 25,
   "metadata": {},
   "outputs": [],
   "source": [
    "import requests_html"
   ]
  },
  {
   "cell_type": "code",
   "execution_count": 33,
   "metadata": {},
   "outputs": [
    {
     "ename": "AttributeError",
     "evalue": "'HTML' object has no attribute 'script'",
     "output_type": "error",
     "traceback": [
      "\u001b[1;31m---------------------------------------------------------------------------\u001b[0m",
      "\u001b[1;31mAttributeError\u001b[0m                            Traceback (most recent call last)",
      "\u001b[1;32m<ipython-input-33-5baf2889ab50>\u001b[0m in \u001b[0;36m<module>\u001b[1;34m\u001b[0m\n\u001b[1;32m----> 1\u001b[1;33m \u001b[0mr3\u001b[0m\u001b[1;33m.\u001b[0m\u001b[0mhtml\u001b[0m\u001b[1;33m.\u001b[0m\u001b[0mscript\u001b[0m\u001b[1;33m\u001b[0m\u001b[1;33m\u001b[0m\u001b[0m\n\u001b[0m",
      "\u001b[1;31mAttributeError\u001b[0m: 'HTML' object has no attribute 'script'"
     ]
    }
   ],
   "source": [
    "r3.html.script"
   ]
  },
  {
   "cell_type": "code",
   "execution_count": null,
   "metadata": {},
   "outputs": [],
   "source": []
  }
 ],
 "metadata": {
  "kernelspec": {
   "display_name": "Python 3",
   "language": "python",
   "name": "python3"
  },
  "language_info": {
   "codemirror_mode": {
    "name": "ipython",
    "version": 3
   },
   "file_extension": ".py",
   "mimetype": "text/x-python",
   "name": "python",
   "nbconvert_exporter": "python",
   "pygments_lexer": "ipython3",
   "version": "3.7.4"
  }
 },
 "nbformat": 4,
 "nbformat_minor": 4
}
